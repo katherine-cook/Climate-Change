{
 "cells": [
  {
   "cell_type": "code",
   "execution_count": 1,
   "metadata": {},
   "outputs": [
    {
     "name": "stderr",
     "output_type": "stream",
     "text": [
      "/Users/KatherineCook/anaconda/lib/python3.6/site-packages/sklearn/cross_validation.py:44: DeprecationWarning: This module was deprecated in version 0.18 in favor of the model_selection module into which all the refactored classes and functions are moved. Also note that the interface of the new CV iterators are different from that of this module. This module will be removed in 0.20.\n",
      "  \"This module will be removed in 0.20.\", DeprecationWarning)\n"
     ]
    }
   ],
   "source": [
    "import pandas as pd\n",
    "import numpy as np \n",
    "import warnings\n",
    "warnings.filterwarnings(\"ignore\")\n",
    "\n",
    "import xgboost as xgb\n",
    "from sklearn.cross_validation import KFold\n",
    "\n",
    "import matplotlib.pyplot as plt \n",
    "from sklearn.model_selection import train_test_split\n",
    "from sklearn.metrics import mean_absolute_error\n",
    "from sklearn.ensemble import GradientBoostingRegressor #used for feature selection \n",
    "from sklearn.feature_selection import SelectFromModel, VarianceThreshold #used to pick the most important features"
   ]
  },
  {
   "cell_type": "code",
   "execution_count": 4,
   "metadata": {
    "collapsed": true
   },
   "outputs": [],
   "source": [
    "train = pd.read_csv('./clim_change/GlobalTemperatures_train.csv')\n",
    "#train_labels = pd.read_csv('./clim_change/GlobalTemps_trainlabels.csv')\n",
    "test = pd.read_csv('./clim_change/GlobalTemperatures_test.csv')"
   ]
  },
  {
   "cell_type": "code",
   "execution_count": 5,
   "metadata": {
    "collapsed": true
   },
   "outputs": [],
   "source": [
    "#covert date to pandas date time \n",
    "train.dt = pd.to_datetime(train.dt)\n",
    "test.dt = pd.to_datetime(test.dt)"
   ]
  },
  {
   "cell_type": "code",
   "execution_count": 6,
   "metadata": {
    "collapsed": true
   },
   "outputs": [],
   "source": [
    "#create new columns for date info \n",
    "train['year'] = train['dt'].dt.year\n",
    "train['month'] = train['dt'].dt.month\n",
    "train['day'] = train['dt'].dt.day"
   ]
  },
  {
   "cell_type": "code",
   "execution_count": 7,
   "metadata": {
    "collapsed": true
   },
   "outputs": [],
   "source": [
    "#create new columns for date info \n",
    "test['year'] = test['dt'].dt.year\n",
    "test['month'] = test['dt'].dt.month\n",
    "test['day'] = test['dt'].dt.day"
   ]
  },
  {
   "cell_type": "code",
   "execution_count": 8,
   "metadata": {
    "collapsed": true
   },
   "outputs": [],
   "source": [
    "#drop original date column \n",
    "train = train.drop('dt',1)\n",
    "test = test.drop('dt',1)"
   ]
  },
  {
   "cell_type": "code",
   "execution_count": 9,
   "metadata": {},
   "outputs": [
    {
     "data": {
      "text/html": [
       "<div>\n",
       "<style>\n",
       "    .dataframe thead tr:only-child th {\n",
       "        text-align: right;\n",
       "    }\n",
       "\n",
       "    .dataframe thead th {\n",
       "        text-align: left;\n",
       "    }\n",
       "\n",
       "    .dataframe tbody tr th {\n",
       "        vertical-align: top;\n",
       "    }\n",
       "</style>\n",
       "<table border=\"1\" class=\"dataframe\">\n",
       "  <thead>\n",
       "    <tr style=\"text-align: right;\">\n",
       "      <th></th>\n",
       "      <th>LandAverageTemperature</th>\n",
       "      <th>LandAverageTemperatureUncertainty</th>\n",
       "      <th>LandMaxTemperature</th>\n",
       "      <th>LandMaxTemperatureUncertainty</th>\n",
       "      <th>LandMinTemperature</th>\n",
       "      <th>LandMinTemperatureUncertainty</th>\n",
       "      <th>LandAndOceanAverageTemperature</th>\n",
       "      <th>LandAndOceanAverageTemperatureUncertainty</th>\n",
       "      <th>year</th>\n",
       "      <th>month</th>\n",
       "      <th>day</th>\n",
       "    </tr>\n",
       "  </thead>\n",
       "  <tbody>\n",
       "    <tr>\n",
       "      <th>0</th>\n",
       "      <td>0.749</td>\n",
       "      <td>1.105</td>\n",
       "      <td>8.242</td>\n",
       "      <td>1.738</td>\n",
       "      <td>-3.206</td>\n",
       "      <td>2.822</td>\n",
       "      <td>12.833</td>\n",
       "      <td>0.367</td>\n",
       "      <td>1850</td>\n",
       "      <td>1</td>\n",
       "      <td>1</td>\n",
       "    </tr>\n",
       "    <tr>\n",
       "      <th>1</th>\n",
       "      <td>3.071</td>\n",
       "      <td>1.275</td>\n",
       "      <td>9.970</td>\n",
       "      <td>3.007</td>\n",
       "      <td>-2.291</td>\n",
       "      <td>1.623</td>\n",
       "      <td>13.588</td>\n",
       "      <td>0.414</td>\n",
       "      <td>1850</td>\n",
       "      <td>2</td>\n",
       "      <td>1</td>\n",
       "    </tr>\n",
       "    <tr>\n",
       "      <th>2</th>\n",
       "      <td>4.954</td>\n",
       "      <td>0.955</td>\n",
       "      <td>10.347</td>\n",
       "      <td>2.401</td>\n",
       "      <td>-1.905</td>\n",
       "      <td>1.410</td>\n",
       "      <td>14.043</td>\n",
       "      <td>0.341</td>\n",
       "      <td>1850</td>\n",
       "      <td>3</td>\n",
       "      <td>1</td>\n",
       "    </tr>\n",
       "    <tr>\n",
       "      <th>3</th>\n",
       "      <td>7.217</td>\n",
       "      <td>0.665</td>\n",
       "      <td>12.934</td>\n",
       "      <td>1.004</td>\n",
       "      <td>1.018</td>\n",
       "      <td>1.329</td>\n",
       "      <td>14.667</td>\n",
       "      <td>0.267</td>\n",
       "      <td>1850</td>\n",
       "      <td>4</td>\n",
       "      <td>1</td>\n",
       "    </tr>\n",
       "    <tr>\n",
       "      <th>4</th>\n",
       "      <td>10.004</td>\n",
       "      <td>0.617</td>\n",
       "      <td>15.655</td>\n",
       "      <td>2.406</td>\n",
       "      <td>3.811</td>\n",
       "      <td>1.347</td>\n",
       "      <td>15.507</td>\n",
       "      <td>0.249</td>\n",
       "      <td>1850</td>\n",
       "      <td>5</td>\n",
       "      <td>1</td>\n",
       "    </tr>\n",
       "  </tbody>\n",
       "</table>\n",
       "</div>"
      ],
      "text/plain": [
       "   LandAverageTemperature  LandAverageTemperatureUncertainty  \\\n",
       "0                   0.749                              1.105   \n",
       "1                   3.071                              1.275   \n",
       "2                   4.954                              0.955   \n",
       "3                   7.217                              0.665   \n",
       "4                  10.004                              0.617   \n",
       "\n",
       "   LandMaxTemperature  LandMaxTemperatureUncertainty  LandMinTemperature  \\\n",
       "0               8.242                          1.738              -3.206   \n",
       "1               9.970                          3.007              -2.291   \n",
       "2              10.347                          2.401              -1.905   \n",
       "3              12.934                          1.004               1.018   \n",
       "4              15.655                          2.406               3.811   \n",
       "\n",
       "   LandMinTemperatureUncertainty  LandAndOceanAverageTemperature  \\\n",
       "0                          2.822                          12.833   \n",
       "1                          1.623                          13.588   \n",
       "2                          1.410                          14.043   \n",
       "3                          1.329                          14.667   \n",
       "4                          1.347                          15.507   \n",
       "\n",
       "   LandAndOceanAverageTemperatureUncertainty  year  month  day  \n",
       "0                                      0.367  1850      1    1  \n",
       "1                                      0.414  1850      2    1  \n",
       "2                                      0.341  1850      3    1  \n",
       "3                                      0.267  1850      4    1  \n",
       "4                                      0.249  1850      5    1  "
      ]
     },
     "execution_count": 9,
     "metadata": {},
     "output_type": "execute_result"
    }
   ],
   "source": [
    "train.head()"
   ]
  },
  {
   "cell_type": "code",
   "execution_count": 10,
   "metadata": {},
   "outputs": [
    {
     "data": {
      "text/html": [
       "<div>\n",
       "<style>\n",
       "    .dataframe thead tr:only-child th {\n",
       "        text-align: right;\n",
       "    }\n",
       "\n",
       "    .dataframe thead th {\n",
       "        text-align: left;\n",
       "    }\n",
       "\n",
       "    .dataframe tbody tr th {\n",
       "        vertical-align: top;\n",
       "    }\n",
       "</style>\n",
       "<table border=\"1\" class=\"dataframe\">\n",
       "  <thead>\n",
       "    <tr style=\"text-align: right;\">\n",
       "      <th></th>\n",
       "      <th>LandAverageTemperature</th>\n",
       "      <th>LandAverageTemperatureUncertainty</th>\n",
       "      <th>LandMaxTemperature</th>\n",
       "      <th>LandMaxTemperatureUncertainty</th>\n",
       "      <th>LandMinTemperature</th>\n",
       "      <th>LandMinTemperatureUncertainty</th>\n",
       "      <th>LandAndOceanAverageTemperature</th>\n",
       "      <th>LandAndOceanAverageTemperatureUncertainty</th>\n",
       "      <th>year</th>\n",
       "      <th>month</th>\n",
       "      <th>day</th>\n",
       "    </tr>\n",
       "  </thead>\n",
       "  <tbody>\n",
       "    <tr>\n",
       "      <th>0</th>\n",
       "      <td>3.243</td>\n",
       "      <td>0.090</td>\n",
       "      <td>8.557</td>\n",
       "      <td>0.099</td>\n",
       "      <td>-1.939</td>\n",
       "      <td>0.075</td>\n",
       "      <td>13.891</td>\n",
       "      <td>0.057</td>\n",
       "      <td>1990</td>\n",
       "      <td>1</td>\n",
       "      <td>1</td>\n",
       "    </tr>\n",
       "    <tr>\n",
       "      <th>1</th>\n",
       "      <td>3.643</td>\n",
       "      <td>0.087</td>\n",
       "      <td>9.225</td>\n",
       "      <td>0.111</td>\n",
       "      <td>-1.795</td>\n",
       "      <td>0.070</td>\n",
       "      <td>14.143</td>\n",
       "      <td>0.056</td>\n",
       "      <td>1990</td>\n",
       "      <td>2</td>\n",
       "      <td>1</td>\n",
       "    </tr>\n",
       "    <tr>\n",
       "      <th>2</th>\n",
       "      <td>6.730</td>\n",
       "      <td>0.099</td>\n",
       "      <td>12.658</td>\n",
       "      <td>0.179</td>\n",
       "      <td>1.036</td>\n",
       "      <td>0.094</td>\n",
       "      <td>15.005</td>\n",
       "      <td>0.058</td>\n",
       "      <td>1990</td>\n",
       "      <td>3</td>\n",
       "      <td>1</td>\n",
       "    </tr>\n",
       "    <tr>\n",
       "      <th>3</th>\n",
       "      <td>9.169</td>\n",
       "      <td>0.059</td>\n",
       "      <td>15.058</td>\n",
       "      <td>0.084</td>\n",
       "      <td>3.373</td>\n",
       "      <td>0.125</td>\n",
       "      <td>15.683</td>\n",
       "      <td>0.052</td>\n",
       "      <td>1990</td>\n",
       "      <td>4</td>\n",
       "      <td>1</td>\n",
       "    </tr>\n",
       "    <tr>\n",
       "      <th>4</th>\n",
       "      <td>11.831</td>\n",
       "      <td>0.071</td>\n",
       "      <td>17.642</td>\n",
       "      <td>0.234</td>\n",
       "      <td>6.086</td>\n",
       "      <td>0.237</td>\n",
       "      <td>16.397</td>\n",
       "      <td>0.054</td>\n",
       "      <td>1990</td>\n",
       "      <td>5</td>\n",
       "      <td>1</td>\n",
       "    </tr>\n",
       "  </tbody>\n",
       "</table>\n",
       "</div>"
      ],
      "text/plain": [
       "   LandAverageTemperature  LandAverageTemperatureUncertainty  \\\n",
       "0                   3.243                              0.090   \n",
       "1                   3.643                              0.087   \n",
       "2                   6.730                              0.099   \n",
       "3                   9.169                              0.059   \n",
       "4                  11.831                              0.071   \n",
       "\n",
       "   LandMaxTemperature  LandMaxTemperatureUncertainty  LandMinTemperature  \\\n",
       "0               8.557                          0.099              -1.939   \n",
       "1               9.225                          0.111              -1.795   \n",
       "2              12.658                          0.179               1.036   \n",
       "3              15.058                          0.084               3.373   \n",
       "4              17.642                          0.234               6.086   \n",
       "\n",
       "   LandMinTemperatureUncertainty  LandAndOceanAverageTemperature  \\\n",
       "0                          0.075                          13.891   \n",
       "1                          0.070                          14.143   \n",
       "2                          0.094                          15.005   \n",
       "3                          0.125                          15.683   \n",
       "4                          0.237                          16.397   \n",
       "\n",
       "   LandAndOceanAverageTemperatureUncertainty  year  month  day  \n",
       "0                                      0.057  1990      1    1  \n",
       "1                                      0.056  1990      2    1  \n",
       "2                                      0.058  1990      3    1  \n",
       "3                                      0.052  1990      4    1  \n",
       "4                                      0.054  1990      5    1  "
      ]
     },
     "execution_count": 10,
     "metadata": {},
     "output_type": "execute_result"
    }
   ],
   "source": [
    "test.head()"
   ]
  },
  {
   "cell_type": "code",
   "execution_count": 12,
   "metadata": {
    "collapsed": true
   },
   "outputs": [],
   "source": [
    "train.to_csv('globaldata_trainfeats.csv',index=False)"
   ]
  },
  {
   "cell_type": "code",
   "execution_count": 13,
   "metadata": {
    "collapsed": true
   },
   "outputs": [],
   "source": [
    "test.to_csv('globaldata_testfeats.csv', index=False)"
   ]
  },
  {
   "cell_type": "code",
   "execution_count": 16,
   "metadata": {
    "collapsed": true
   },
   "outputs": [],
   "source": [
    "train_feats = pd.read_csv('./clim_change/globaldata_trainfeats.csv')\n",
    "train_labels = pd.read_csv('./clim_change/globaldata_trainlabels.csv')\n",
    "test = pd.read_csv('./clim_change/globaldata_testfeats.csv')"
   ]
  },
  {
   "cell_type": "code",
   "execution_count": 21,
   "metadata": {
    "collapsed": true
   },
   "outputs": [],
   "source": [
    "train_labels = train_labels.drop(['year', 'month','day'], axis=1)"
   ]
  },
  {
   "cell_type": "code",
   "execution_count": 17,
   "metadata": {},
   "outputs": [
    {
     "data": {
      "text/html": [
       "<div>\n",
       "<style>\n",
       "    .dataframe thead tr:only-child th {\n",
       "        text-align: right;\n",
       "    }\n",
       "\n",
       "    .dataframe thead th {\n",
       "        text-align: left;\n",
       "    }\n",
       "\n",
       "    .dataframe tbody tr th {\n",
       "        vertical-align: top;\n",
       "    }\n",
       "</style>\n",
       "<table border=\"1\" class=\"dataframe\">\n",
       "  <thead>\n",
       "    <tr style=\"text-align: right;\">\n",
       "      <th></th>\n",
       "      <th>LandAverageTemperature</th>\n",
       "      <th>LandAverageTemperatureUncertainty</th>\n",
       "      <th>LandMaxTemperature</th>\n",
       "      <th>LandMaxTemperatureUncertainty</th>\n",
       "      <th>LandMinTemperature</th>\n",
       "      <th>LandMinTemperatureUncertainty</th>\n",
       "      <th>LandAndOceanAverageTemperature</th>\n",
       "      <th>LandAndOceanAverageTemperatureUncertainty</th>\n",
       "      <th>year</th>\n",
       "      <th>month</th>\n",
       "      <th>day</th>\n",
       "    </tr>\n",
       "  </thead>\n",
       "  <tbody>\n",
       "    <tr>\n",
       "      <th>0</th>\n",
       "      <td>0.749</td>\n",
       "      <td>1.105</td>\n",
       "      <td>8.242</td>\n",
       "      <td>1.738</td>\n",
       "      <td>-3.206</td>\n",
       "      <td>2.822</td>\n",
       "      <td>12.833</td>\n",
       "      <td>0.367</td>\n",
       "      <td>1850</td>\n",
       "      <td>1</td>\n",
       "      <td>1</td>\n",
       "    </tr>\n",
       "    <tr>\n",
       "      <th>1</th>\n",
       "      <td>3.071</td>\n",
       "      <td>1.275</td>\n",
       "      <td>9.970</td>\n",
       "      <td>3.007</td>\n",
       "      <td>-2.291</td>\n",
       "      <td>1.623</td>\n",
       "      <td>13.588</td>\n",
       "      <td>0.414</td>\n",
       "      <td>1850</td>\n",
       "      <td>2</td>\n",
       "      <td>1</td>\n",
       "    </tr>\n",
       "    <tr>\n",
       "      <th>2</th>\n",
       "      <td>4.954</td>\n",
       "      <td>0.955</td>\n",
       "      <td>10.347</td>\n",
       "      <td>2.401</td>\n",
       "      <td>-1.905</td>\n",
       "      <td>1.410</td>\n",
       "      <td>14.043</td>\n",
       "      <td>0.341</td>\n",
       "      <td>1850</td>\n",
       "      <td>3</td>\n",
       "      <td>1</td>\n",
       "    </tr>\n",
       "    <tr>\n",
       "      <th>3</th>\n",
       "      <td>7.217</td>\n",
       "      <td>0.665</td>\n",
       "      <td>12.934</td>\n",
       "      <td>1.004</td>\n",
       "      <td>1.018</td>\n",
       "      <td>1.329</td>\n",
       "      <td>14.667</td>\n",
       "      <td>0.267</td>\n",
       "      <td>1850</td>\n",
       "      <td>4</td>\n",
       "      <td>1</td>\n",
       "    </tr>\n",
       "    <tr>\n",
       "      <th>4</th>\n",
       "      <td>10.004</td>\n",
       "      <td>0.617</td>\n",
       "      <td>15.655</td>\n",
       "      <td>2.406</td>\n",
       "      <td>3.811</td>\n",
       "      <td>1.347</td>\n",
       "      <td>15.507</td>\n",
       "      <td>0.249</td>\n",
       "      <td>1850</td>\n",
       "      <td>5</td>\n",
       "      <td>1</td>\n",
       "    </tr>\n",
       "  </tbody>\n",
       "</table>\n",
       "</div>"
      ],
      "text/plain": [
       "   LandAverageTemperature  LandAverageTemperatureUncertainty  \\\n",
       "0                   0.749                              1.105   \n",
       "1                   3.071                              1.275   \n",
       "2                   4.954                              0.955   \n",
       "3                   7.217                              0.665   \n",
       "4                  10.004                              0.617   \n",
       "\n",
       "   LandMaxTemperature  LandMaxTemperatureUncertainty  LandMinTemperature  \\\n",
       "0               8.242                          1.738              -3.206   \n",
       "1               9.970                          3.007              -2.291   \n",
       "2              10.347                          2.401              -1.905   \n",
       "3              12.934                          1.004               1.018   \n",
       "4              15.655                          2.406               3.811   \n",
       "\n",
       "   LandMinTemperatureUncertainty  LandAndOceanAverageTemperature  \\\n",
       "0                          2.822                          12.833   \n",
       "1                          1.623                          13.588   \n",
       "2                          1.410                          14.043   \n",
       "3                          1.329                          14.667   \n",
       "4                          1.347                          15.507   \n",
       "\n",
       "   LandAndOceanAverageTemperatureUncertainty  year  month  day  \n",
       "0                                      0.367  1850      1    1  \n",
       "1                                      0.414  1850      2    1  \n",
       "2                                      0.341  1850      3    1  \n",
       "3                                      0.267  1850      4    1  \n",
       "4                                      0.249  1850      5    1  "
      ]
     },
     "execution_count": 17,
     "metadata": {},
     "output_type": "execute_result"
    }
   ],
   "source": [
    "train_feats.head() "
   ]
  },
  {
   "cell_type": "code",
   "execution_count": 22,
   "metadata": {},
   "outputs": [
    {
     "data": {
      "text/html": [
       "<div>\n",
       "<style>\n",
       "    .dataframe thead tr:only-child th {\n",
       "        text-align: right;\n",
       "    }\n",
       "\n",
       "    .dataframe thead th {\n",
       "        text-align: left;\n",
       "    }\n",
       "\n",
       "    .dataframe tbody tr th {\n",
       "        vertical-align: top;\n",
       "    }\n",
       "</style>\n",
       "<table border=\"1\" class=\"dataframe\">\n",
       "  <thead>\n",
       "    <tr style=\"text-align: right;\">\n",
       "      <th></th>\n",
       "      <th>LandAverageTemperature</th>\n",
       "    </tr>\n",
       "  </thead>\n",
       "  <tbody>\n",
       "    <tr>\n",
       "      <th>0</th>\n",
       "      <td>0.749</td>\n",
       "    </tr>\n",
       "    <tr>\n",
       "      <th>1</th>\n",
       "      <td>3.071</td>\n",
       "    </tr>\n",
       "    <tr>\n",
       "      <th>2</th>\n",
       "      <td>4.954</td>\n",
       "    </tr>\n",
       "    <tr>\n",
       "      <th>3</th>\n",
       "      <td>7.217</td>\n",
       "    </tr>\n",
       "    <tr>\n",
       "      <th>4</th>\n",
       "      <td>10.004</td>\n",
       "    </tr>\n",
       "  </tbody>\n",
       "</table>\n",
       "</div>"
      ],
      "text/plain": [
       "   LandAverageTemperature\n",
       "0                   0.749\n",
       "1                   3.071\n",
       "2                   4.954\n",
       "3                   7.217\n",
       "4                  10.004"
      ]
     },
     "execution_count": 22,
     "metadata": {},
     "output_type": "execute_result"
    }
   ],
   "source": [
    "train_labels.head()"
   ]
  },
  {
   "cell_type": "code",
   "execution_count": 19,
   "metadata": {},
   "outputs": [
    {
     "data": {
      "text/html": [
       "<div>\n",
       "<style>\n",
       "    .dataframe thead tr:only-child th {\n",
       "        text-align: right;\n",
       "    }\n",
       "\n",
       "    .dataframe thead th {\n",
       "        text-align: left;\n",
       "    }\n",
       "\n",
       "    .dataframe tbody tr th {\n",
       "        vertical-align: top;\n",
       "    }\n",
       "</style>\n",
       "<table border=\"1\" class=\"dataframe\">\n",
       "  <thead>\n",
       "    <tr style=\"text-align: right;\">\n",
       "      <th></th>\n",
       "      <th>LandAverageTemperature</th>\n",
       "      <th>LandAverageTemperatureUncertainty</th>\n",
       "      <th>LandMaxTemperature</th>\n",
       "      <th>LandMaxTemperatureUncertainty</th>\n",
       "      <th>LandMinTemperature</th>\n",
       "      <th>LandMinTemperatureUncertainty</th>\n",
       "      <th>LandAndOceanAverageTemperature</th>\n",
       "      <th>LandAndOceanAverageTemperatureUncertainty</th>\n",
       "      <th>year</th>\n",
       "      <th>month</th>\n",
       "      <th>day</th>\n",
       "    </tr>\n",
       "  </thead>\n",
       "  <tbody>\n",
       "    <tr>\n",
       "      <th>0</th>\n",
       "      <td>3.243</td>\n",
       "      <td>0.090</td>\n",
       "      <td>8.557</td>\n",
       "      <td>0.099</td>\n",
       "      <td>-1.939</td>\n",
       "      <td>0.075</td>\n",
       "      <td>13.891</td>\n",
       "      <td>0.057</td>\n",
       "      <td>1990</td>\n",
       "      <td>1</td>\n",
       "      <td>1</td>\n",
       "    </tr>\n",
       "    <tr>\n",
       "      <th>1</th>\n",
       "      <td>3.643</td>\n",
       "      <td>0.087</td>\n",
       "      <td>9.225</td>\n",
       "      <td>0.111</td>\n",
       "      <td>-1.795</td>\n",
       "      <td>0.070</td>\n",
       "      <td>14.143</td>\n",
       "      <td>0.056</td>\n",
       "      <td>1990</td>\n",
       "      <td>2</td>\n",
       "      <td>1</td>\n",
       "    </tr>\n",
       "    <tr>\n",
       "      <th>2</th>\n",
       "      <td>6.730</td>\n",
       "      <td>0.099</td>\n",
       "      <td>12.658</td>\n",
       "      <td>0.179</td>\n",
       "      <td>1.036</td>\n",
       "      <td>0.094</td>\n",
       "      <td>15.005</td>\n",
       "      <td>0.058</td>\n",
       "      <td>1990</td>\n",
       "      <td>3</td>\n",
       "      <td>1</td>\n",
       "    </tr>\n",
       "    <tr>\n",
       "      <th>3</th>\n",
       "      <td>9.169</td>\n",
       "      <td>0.059</td>\n",
       "      <td>15.058</td>\n",
       "      <td>0.084</td>\n",
       "      <td>3.373</td>\n",
       "      <td>0.125</td>\n",
       "      <td>15.683</td>\n",
       "      <td>0.052</td>\n",
       "      <td>1990</td>\n",
       "      <td>4</td>\n",
       "      <td>1</td>\n",
       "    </tr>\n",
       "    <tr>\n",
       "      <th>4</th>\n",
       "      <td>11.831</td>\n",
       "      <td>0.071</td>\n",
       "      <td>17.642</td>\n",
       "      <td>0.234</td>\n",
       "      <td>6.086</td>\n",
       "      <td>0.237</td>\n",
       "      <td>16.397</td>\n",
       "      <td>0.054</td>\n",
       "      <td>1990</td>\n",
       "      <td>5</td>\n",
       "      <td>1</td>\n",
       "    </tr>\n",
       "  </tbody>\n",
       "</table>\n",
       "</div>"
      ],
      "text/plain": [
       "   LandAverageTemperature  LandAverageTemperatureUncertainty  \\\n",
       "0                   3.243                              0.090   \n",
       "1                   3.643                              0.087   \n",
       "2                   6.730                              0.099   \n",
       "3                   9.169                              0.059   \n",
       "4                  11.831                              0.071   \n",
       "\n",
       "   LandMaxTemperature  LandMaxTemperatureUncertainty  LandMinTemperature  \\\n",
       "0               8.557                          0.099              -1.939   \n",
       "1               9.225                          0.111              -1.795   \n",
       "2              12.658                          0.179               1.036   \n",
       "3              15.058                          0.084               3.373   \n",
       "4              17.642                          0.234               6.086   \n",
       "\n",
       "   LandMinTemperatureUncertainty  LandAndOceanAverageTemperature  \\\n",
       "0                          0.075                          13.891   \n",
       "1                          0.070                          14.143   \n",
       "2                          0.094                          15.005   \n",
       "3                          0.125                          15.683   \n",
       "4                          0.237                          16.397   \n",
       "\n",
       "   LandAndOceanAverageTemperatureUncertainty  year  month  day  \n",
       "0                                      0.057  1990      1    1  \n",
       "1                                      0.056  1990      2    1  \n",
       "2                                      0.058  1990      3    1  \n",
       "3                                      0.052  1990      4    1  \n",
       "4                                      0.054  1990      5    1  "
      ]
     },
     "execution_count": 19,
     "metadata": {},
     "output_type": "execute_result"
    }
   ],
   "source": [
    "test.head()"
   ]
  },
  {
   "cell_type": "code",
   "execution_count": null,
   "metadata": {
    "collapsed": true
   },
   "outputs": [],
   "source": [
    "#train, test = train_test_split(globaldata, test_size=0.2, random_state=20)"
   ]
  },
  {
   "cell_type": "code",
   "execution_count": 23,
   "metadata": {},
   "outputs": [
    {
     "name": "stdout",
     "output_type": "stream",
     "text": [
      "(1680, 2) (312, 11)\n"
     ]
    }
   ],
   "source": [
    "Cols = train_feats.columns.values.tolist()\n",
    "clf = GradientBoostingRegressor(random_state = 8001)\n",
    "\n",
    "selector = clf.fit(train_feats, train_labels) #model \n",
    "importances = selector.feature_importances_ #call feature_importances_ which gives the different importances from best to worse , want to get rid of some of the features \n",
    "fs = SelectFromModel(selector, prefit=True)\n",
    "train_feats = fs.transform(train_feats)#choose which columns\n",
    "#print(type(test_features))\n",
    "\n",
    "test_feats = fs.transform(test) #gives you 2 new sets with most significant variables\n",
    "print(train_feats.shape, test.shape)"
   ]
  },
  {
   "cell_type": "code",
   "execution_count": 24,
   "metadata": {
    "collapsed": true
   },
   "outputs": [],
   "source": [
    "train_labels= train_labels.as_matrix()"
   ]
  },
  {
   "cell_type": "code",
   "execution_count": 27,
   "metadata": {},
   "outputs": [
    {
     "name": "stdout",
     "output_type": "stream",
     "text": [
      "0.191388857711\n",
      "0.144138930139\n",
      "0.182948882316\n",
      "0.161977272641\n",
      "0.242462341485\n",
      "0.122688592275\n",
      "0.149867335706\n",
      "0.147563035488\n",
      "0.138945602059\n",
      "0.253491590738\n"
     ]
    }
   ],
   "source": [
    "# Create an empty array for prediction\n",
    "predictedResult = np.zeros(train_feats.shape[0])\n",
    "\n",
    "# Split dataset into k = 10 consecutive folds\n",
    "# Each fold is used once as a validation while the k - 1 remaining folds form the training set\n",
    "kf = KFold(train_feats.shape[0], n_folds=10)\n",
    "\n",
    "testPred = []\n",
    "\n",
    "#just for validation \n",
    "for trainIndex, testIndex in kf:\n",
    "    trainFold, testFold = train_feats[trainIndex], train_feats[testIndex]\n",
    "    #testFold=train_features[testIndex]\n",
    "    trainFoldTarget, testFoldTarget = train_labels[trainIndex], train_labels[testIndex]\n",
    "    \n",
    "    xgbc = xgb.XGBRegressor(n_estimators = 200, # number of boosted trees\n",
    "                             learning_rate = 0.05047, # step size shrinkage used in update to prevent overfitting\n",
    "                             max_depth = 7, # maximum depth of a tree\n",
    "                             subsample = 0.6815, # subsample ratio of the training set (Stochastic gradient boosting)\n",
    "                             colsample_bytree = 0.701) # subsample features\n",
    "    \n",
    "    xgbc.fit(trainFold, trainFoldTarget)\n",
    "    xgbpred =xgbc.predict(testFold)\n",
    "   \n",
    "    testPred.append(xgbc.predict(test_feats))\n",
    "    predictedResult[testIndex] = xgbpred\n",
    "    \n",
    "    # Print the mean_absolute_error\n",
    "    print(mean_absolute_error(testFoldTarget, xgbpred))"
   ]
  },
  {
   "cell_type": "code",
   "execution_count": 28,
   "metadata": {},
   "outputs": [
    {
     "name": "stdout",
     "output_type": "stream",
     "text": [
      "0.173547244056\n"
     ]
    }
   ],
   "source": [
    "print(mean_absolute_error(train_labels, predictedResult))"
   ]
  },
  {
   "cell_type": "code",
   "execution_count": 30,
   "metadata": {
    "collapsed": true
   },
   "outputs": [],
   "source": [
    "testPred = np.average(np.array(testPred), axis =0)"
   ]
  },
  {
   "cell_type": "code",
   "execution_count": 31,
   "metadata": {},
   "outputs": [
    {
     "name": "stdout",
     "output_type": "stream",
     "text": [
      "[  3.72529173   4.33750057   8.13481617  10.25256824  12.46949577\n",
      "  13.99676323  14.77215004  14.17064476  12.51314735  10.8410387\n",
      "   6.99907589   4.7067461    3.81116796   4.52897358   6.08086014\n",
      "  10.27893353  12.23168945  14.3611269   14.78857994  14.45856953\n",
      "  12.90949059   9.98258495   6.38780737   4.05373478   3.84782743\n",
      "   4.49286985   6.31093168   8.84792519  11.79497433  13.69111633\n",
      "  14.2426548   13.83716393  11.97839069   9.37373352   5.89365292\n",
      "   4.26722765   3.87879229   4.2771697    7.25583553   8.87780571\n",
      "  11.7841053   13.67519093  14.63316631  13.89578247  12.38918304\n",
      "   9.97626305   5.84853411   4.03332043   3.18999219   2.97673273\n",
      "   7.1590147    9.56604862  12.06739235  14.24269867  14.74061012\n",
      "  14.10285759  12.85539722  10.86815071   7.85909176   4.60443211\n",
      "   4.08580256   5.03064728   7.21980047   9.38717079  11.77956963\n",
      "  14.25657654  14.78857994  14.76763916  12.87653065  10.89443398\n",
      "   7.81570339   4.10540676   3.06169891   4.45154381   5.87157536\n",
      "   9.24851799  11.82188225  13.79686546  14.76222801  14.71467113\n",
      "  12.55271721   9.56950378   6.45307302   4.52247715   3.56172109\n",
      "   4.28917265   7.65838337   9.52268791  12.29344654  14.28222847\n",
      "  14.67874622  14.52145863  13.07261848  11.1225071    8.26657295\n",
      "   4.8403163    4.14101124   5.16828823   7.75064373  10.72884846\n",
      "  12.81855488  14.65326214  14.78857994  14.78857994  13.01890373\n",
      "  10.8471899    6.79779053   4.85208988   4.13380861   4.96335363\n",
      "   5.93470478   9.41633987  12.10346031  14.12222862  14.76243305\n",
      "  14.39090729  13.35460854  10.70737934   6.88846064   4.75383854\n",
      "   3.08617592   4.70103836   7.77336597  10.59742546  12.4914732\n",
      "  14.2602129   14.77289867  14.63758087  12.88098145   9.94750404\n",
      "   6.42733097   4.14457655   3.89817095   3.99369001   7.89600897\n",
      "  10.41745567  12.69317913  14.23202515  14.78857994  14.59227276\n",
      "  13.48211098  10.90106869   7.64833927   4.8140254    4.62675905\n",
      "   5.06870174   8.27665138  10.4003706   12.69938374  14.21500397\n",
      "  14.78857994  14.6657362   13.67878914  10.95447063   8.07094097\n",
      "   4.51268387   4.64839077   4.69430971   7.76314688  10.41108894\n",
      "  12.72925758  14.11204243  14.78857994  14.78708363  13.67066193\n",
      "  11.31135273   8.0075779    5.2779336    4.43820477   4.98095083\n",
      "   7.96627045  10.41757965  12.12342358  14.02026653  14.49158669\n",
      "  14.40887165  13.13717651  11.0931139    7.76438808   4.47527122\n",
      "   4.17074299   4.79634619   8.21305656  10.8777523   12.7671051\n",
      "  14.62756062  14.78857994  14.65125084  13.57463837  11.27193928\n",
      "   7.79807425   5.00861263   3.84357977   4.92270041   7.95043421\n",
      "  10.17526245  12.50193214  14.58921623  14.78857994  14.78857994\n",
      "  13.65623951  11.21076965   8.17752457   5.23115444   4.99405909\n",
      "   4.86996269   7.99462748  10.98109245  12.96346474  14.45882225\n",
      "  14.78857994  14.78714561  13.60536194  11.18636608   7.76058054\n",
      "   4.65501261   2.99663043   4.18853474   8.36406898  10.2719059\n",
      "  12.69259071  14.2226944   14.78857994  14.55691719  13.50113678\n",
      "  11.24442959   8.11017609   4.57051229   4.02278328   4.76006079\n",
      "   7.63583851  10.5071106   12.72437477  14.43092632  14.78857994\n",
      "  14.76797295  13.69746113  11.11841488   8.22664833   4.7698431\n",
      "   4.24381638   4.93187332   8.28000927  10.90770054  12.79494286\n",
      "  14.58473778  14.78857994  14.78727531  13.58990002  11.27390862\n",
      "   7.77682972   4.6037631    3.74260759   4.38169098   7.37825155\n",
      "  10.63213158  12.73715115  14.53091621  14.78857994  14.78857994\n",
      "  13.60453606  11.18146706   7.99411392   4.8475523    3.81011391\n",
      "   4.10856342   7.55108547  10.81104565  13.1261692   14.63247681\n",
      "  14.78857994  14.78033638  13.6331377   11.29864597   8.06539345\n",
      "   4.53228092   4.0612402    4.79018307   7.89901829  10.36972237\n",
      "  12.69016647  14.67874622  14.78857994  14.78714561  13.68611908\n",
      "  11.16103363   7.88711452   4.98789835   4.07334185   4.39941311\n",
      "   8.07975197  10.83967018  13.05967522  14.56265545  14.78857994\n",
      "  14.78857994  13.60468483  11.27656746   7.9825182    5.16189337\n",
      "   4.70077515   5.01472378   8.26060772  10.71329975  12.87475586\n",
      "  14.64808846  14.78857994  14.78714561  13.78064537  11.73360252\n",
      "   7.99123621   6.16646099]\n"
     ]
    }
   ],
   "source": [
    "print(testPred)"
   ]
  },
  {
   "cell_type": "code",
   "execution_count": 32,
   "metadata": {},
   "outputs": [
    {
     "data": {
      "text/plain": [
       "312"
      ]
     },
     "execution_count": 32,
     "metadata": {},
     "output_type": "execute_result"
    }
   ],
   "source": [
    "len(testPred)"
   ]
  },
  {
   "cell_type": "code",
   "execution_count": null,
   "metadata": {
    "collapsed": true
   },
   "outputs": [],
   "source": [
    "test = pd.read_csv('./clim_change/GlobalTemperatures_test.csv')"
   ]
  },
  {
   "cell_type": "code",
   "execution_count": 57,
   "metadata": {},
   "outputs": [
    {
     "data": {
      "text/plain": [
       "array([ 0.749])"
      ]
     },
     "execution_count": 57,
     "metadata": {},
     "output_type": "execute_result"
    }
   ],
   "source": [
    "train_labels[0]"
   ]
  },
  {
   "cell_type": "code",
   "execution_count": 33,
   "metadata": {},
   "outputs": [
    {
     "data": {
      "text/plain": [
       "numpy.ndarray"
      ]
     },
     "execution_count": 33,
     "metadata": {},
     "output_type": "execute_result"
    }
   ],
   "source": [
    "type(testPred)"
   ]
  },
  {
   "cell_type": "code",
   "execution_count": 55,
   "metadata": {},
   "outputs": [
    {
     "data": {
      "text/plain": [
       "numpy.ndarray"
      ]
     },
     "execution_count": 55,
     "metadata": {},
     "output_type": "execute_result"
    }
   ],
   "source": [
    "type(testPred)"
   ]
  },
  {
   "cell_type": "code",
   "execution_count": 35,
   "metadata": {
    "collapsed": true
   },
   "outputs": [],
   "source": [
    "np.savetxt(\"compare_predicts.csv\", testPred, delimiter=\" \")"
   ]
  },
  {
   "cell_type": "code",
   "execution_count": 36,
   "metadata": {
    "collapsed": true
   },
   "outputs": [],
   "source": [
    "#manually added actual data from testfeats "
   ]
  },
  {
   "cell_type": "code",
   "execution_count": 59,
   "metadata": {
    "collapsed": true
   },
   "outputs": [],
   "source": [
    "testpredicts = pd.read_csv('./clim_change/compare_predicts.csv')"
   ]
  },
  {
   "cell_type": "code",
   "execution_count": 60,
   "metadata": {},
   "outputs": [
    {
     "data": {
      "text/html": [
       "<div>\n",
       "<style>\n",
       "    .dataframe thead tr:only-child th {\n",
       "        text-align: right;\n",
       "    }\n",
       "\n",
       "    .dataframe thead th {\n",
       "        text-align: left;\n",
       "    }\n",
       "\n",
       "    .dataframe tbody tr th {\n",
       "        vertical-align: top;\n",
       "    }\n",
       "</style>\n",
       "<table border=\"1\" class=\"dataframe\">\n",
       "  <thead>\n",
       "    <tr style=\"text-align: right;\">\n",
       "      <th></th>\n",
       "      <th>Pred</th>\n",
       "      <th>Actual</th>\n",
       "      <th>year</th>\n",
       "      <th>month</th>\n",
       "    </tr>\n",
       "  </thead>\n",
       "  <tbody>\n",
       "    <tr>\n",
       "      <th>0</th>\n",
       "      <td>3.73</td>\n",
       "      <td>3.243</td>\n",
       "      <td>1990</td>\n",
       "      <td>1</td>\n",
       "    </tr>\n",
       "    <tr>\n",
       "      <th>1</th>\n",
       "      <td>4.34</td>\n",
       "      <td>3.643</td>\n",
       "      <td>1990</td>\n",
       "      <td>2</td>\n",
       "    </tr>\n",
       "    <tr>\n",
       "      <th>2</th>\n",
       "      <td>8.13</td>\n",
       "      <td>6.730</td>\n",
       "      <td>1990</td>\n",
       "      <td>3</td>\n",
       "    </tr>\n",
       "    <tr>\n",
       "      <th>3</th>\n",
       "      <td>10.25</td>\n",
       "      <td>9.169</td>\n",
       "      <td>1990</td>\n",
       "      <td>4</td>\n",
       "    </tr>\n",
       "    <tr>\n",
       "      <th>4</th>\n",
       "      <td>12.47</td>\n",
       "      <td>11.831</td>\n",
       "      <td>1990</td>\n",
       "      <td>5</td>\n",
       "    </tr>\n",
       "  </tbody>\n",
       "</table>\n",
       "</div>"
      ],
      "text/plain": [
       "   Pred   Actual  year  month\n",
       "0   3.73   3.243  1990      1\n",
       "1   4.34   3.643  1990      2\n",
       "2   8.13   6.730  1990      3\n",
       "3  10.25   9.169  1990      4\n",
       "4  12.47  11.831  1990      5"
      ]
     },
     "execution_count": 60,
     "metadata": {},
     "output_type": "execute_result"
    }
   ],
   "source": [
    "testpredicts.head()"
   ]
  },
  {
   "cell_type": "code",
   "execution_count": 61,
   "metadata": {
    "collapsed": true
   },
   "outputs": [],
   "source": [
    "grouped = testpredicts.groupby('year').mean()"
   ]
  },
  {
   "cell_type": "code",
   "execution_count": 62,
   "metadata": {},
   "outputs": [
    {
     "data": {
      "text/html": [
       "<div>\n",
       "<style>\n",
       "    .dataframe thead tr:only-child th {\n",
       "        text-align: right;\n",
       "    }\n",
       "\n",
       "    .dataframe thead th {\n",
       "        text-align: left;\n",
       "    }\n",
       "\n",
       "    .dataframe tbody tr th {\n",
       "        vertical-align: top;\n",
       "    }\n",
       "</style>\n",
       "<table border=\"1\" class=\"dataframe\">\n",
       "  <thead>\n",
       "    <tr style=\"text-align: right;\">\n",
       "      <th></th>\n",
       "      <th>Pred</th>\n",
       "      <th>Actual</th>\n",
       "      <th>month</th>\n",
       "    </tr>\n",
       "    <tr>\n",
       "      <th>year</th>\n",
       "      <th></th>\n",
       "      <th></th>\n",
       "      <th></th>\n",
       "    </tr>\n",
       "  </thead>\n",
       "  <tbody>\n",
       "    <tr>\n",
       "      <th>1990</th>\n",
       "      <td>9.743333</td>\n",
       "      <td>9.234167</td>\n",
       "      <td>6.5</td>\n",
       "    </tr>\n",
       "    <tr>\n",
       "      <th>1991</th>\n",
       "      <td>9.489167</td>\n",
       "      <td>9.179417</td>\n",
       "      <td>6.5</td>\n",
       "    </tr>\n",
       "    <tr>\n",
       "      <th>1992</th>\n",
       "      <td>9.047500</td>\n",
       "      <td>8.836583</td>\n",
       "      <td>6.5</td>\n",
       "    </tr>\n",
       "  </tbody>\n",
       "</table>\n",
       "</div>"
      ],
      "text/plain": [
       "         Pred     Actual  month\n",
       "year                           \n",
       "1990  9.743333  9.234167    6.5\n",
       "1991  9.489167  9.179417    6.5\n",
       "1992  9.047500  8.836583    6.5"
      ]
     },
     "execution_count": 62,
     "metadata": {},
     "output_type": "execute_result"
    }
   ],
   "source": [
    "grouped.head(3)"
   ]
  },
  {
   "cell_type": "code",
   "execution_count": 63,
   "metadata": {
    "collapsed": true
   },
   "outputs": [],
   "source": [
    "grouped = grouped.drop('month',1)"
   ]
  },
  {
   "cell_type": "code",
   "execution_count": 64,
   "metadata": {
    "collapsed": true
   },
   "outputs": [],
   "source": [
    "grouped.reset_index(level=0, inplace=True)"
   ]
  },
  {
   "cell_type": "code",
   "execution_count": 68,
   "metadata": {},
   "outputs": [
    {
     "data": {
      "text/plain": [
       "pandas.core.frame.DataFrame"
      ]
     },
     "execution_count": 68,
     "metadata": {},
     "output_type": "execute_result"
    }
   ],
   "source": [
    "type(grouped)"
   ]
  },
  {
   "cell_type": "code",
   "execution_count": 65,
   "metadata": {},
   "outputs": [
    {
     "data": {
      "text/html": [
       "<div>\n",
       "<style>\n",
       "    .dataframe thead tr:only-child th {\n",
       "        text-align: right;\n",
       "    }\n",
       "\n",
       "    .dataframe thead th {\n",
       "        text-align: left;\n",
       "    }\n",
       "\n",
       "    .dataframe tbody tr th {\n",
       "        vertical-align: top;\n",
       "    }\n",
       "</style>\n",
       "<table border=\"1\" class=\"dataframe\">\n",
       "  <thead>\n",
       "    <tr style=\"text-align: right;\">\n",
       "      <th></th>\n",
       "      <th>year</th>\n",
       "      <th>Pred</th>\n",
       "      <th>Actual</th>\n",
       "    </tr>\n",
       "  </thead>\n",
       "  <tbody>\n",
       "    <tr>\n",
       "      <th>0</th>\n",
       "      <td>1990</td>\n",
       "      <td>9.743333</td>\n",
       "      <td>9.234167</td>\n",
       "    </tr>\n",
       "    <tr>\n",
       "      <th>1</th>\n",
       "      <td>1991</td>\n",
       "      <td>9.489167</td>\n",
       "      <td>9.179417</td>\n",
       "    </tr>\n",
       "    <tr>\n",
       "      <th>2</th>\n",
       "      <td>1992</td>\n",
       "      <td>9.047500</td>\n",
       "      <td>8.836583</td>\n",
       "    </tr>\n",
       "  </tbody>\n",
       "</table>\n",
       "</div>"
      ],
      "text/plain": [
       "   year     Pred     Actual\n",
       "0  1990  9.743333  9.234167\n",
       "1  1991  9.489167  9.179417\n",
       "2  1992  9.047500  8.836583"
      ]
     },
     "execution_count": 65,
     "metadata": {},
     "output_type": "execute_result"
    }
   ],
   "source": [
    "grouped.head(3)"
   ]
  },
  {
   "cell_type": "code",
   "execution_count": 89,
   "metadata": {},
   "outputs": [
    {
     "data": {
      "text/plain": [
       "0      9.743333\n",
       "1      9.489167\n",
       "2      9.047500\n",
       "3      9.211667\n",
       "4      9.520000\n",
       "5      9.752500\n",
       "6      9.234167\n",
       "7      9.841667\n",
       "8     10.030000\n",
       "9      9.625833\n",
       "10     9.643333\n",
       "11     9.945833\n",
       "12    10.164167\n",
       "13    10.183333\n",
       "14     9.943333\n",
       "15    10.212500\n",
       "16    10.153333\n",
       "17    10.254167\n",
       "18     9.958333\n",
       "19    10.121667\n",
       "20    10.212500\n",
       "21    10.050000\n",
       "22    10.095000\n",
       "23    10.150000\n",
       "24    10.217500\n",
       "25    10.454167\n",
       "Name: Pred , dtype: float64"
      ]
     },
     "execution_count": 89,
     "metadata": {},
     "output_type": "execute_result"
    }
   ],
   "source": [
    "grouped['Pred ']"
   ]
  },
  {
   "cell_type": "code",
   "execution_count": 88,
   "metadata": {
    "collapsed": true
   },
   "outputs": [],
   "source": [
    "grouped.to_csv('grouped.csv',index=False)"
   ]
  },
  {
   "cell_type": "code",
   "execution_count": 97,
   "metadata": {},
   "outputs": [
    {
     "data": {
      "text/plain": [
       "<matplotlib.figure.Figure at 0x1140fe1d0>"
      ]
     },
     "metadata": {},
     "output_type": "display_data"
    },
    {
     "data": {
      "image/png": "[encoded data removed]",
      "text/plain": [
       "<matplotlib.figure.Figure at 0x113dae470>"
      ]
     },
     "metadata": {},
     "output_type": "display_data"
    }
   ],
   "source": [
    "fig = plt.figure()\n",
    "ax = grouped.plot('year', 'Pred ', figsize=(20,10), grid=True, ylim=(8,12), fontsize=14, legend=False)\n",
    "plt.suptitle('Average Yearly Global Land Temperatures', fontsize=20)\n",
    "plt.xlabel('Year', fontsize=18)\n",
    "plt.ylabel('Degrees Celcius', fontsize=16)\n",
    "plt.show()"
   ]
  },
  {
   "cell_type": "code",
   "execution_count": 99,
   "metadata": {},
   "outputs": [
    {
     "data": {
      "text/plain": [
       "<matplotlib.figure.Figure at 0x112804f28>"
      ]
     },
     "metadata": {},
     "output_type": "display_data"
    },
    {
     "data": {
      "image/png": "[encoded data removed]",
      "text/plain": [
       "<matplotlib.figure.Figure at 0x113a1cf60>"
      ]
     },
     "metadata": {},
     "output_type": "display_data"
    },
    {
     "data": {
      "text/plain": [
       "<matplotlib.figure.Figure at 0x111ae9908>"
      ]
     },
     "metadata": {},
     "output_type": "display_data"
    },
    {
     "data": {
      "image/png": "[encoded data removed]",
      "text/plain": [
       "<matplotlib.figure.Figure at 0x111ab7d30>"
      ]
     },
     "metadata": {},
     "output_type": "display_data"
    }
   ],
   "source": [
    "fig = plt.figure()\n",
    "ax = grouped.plot('year',['Actual','Pred '],figsize=(20,10),grid=True,ylim=(8,12),fontsize=14,legend=True)\n",
    "plt.suptitle('Average Actual & Predicted Yearly Global Land Temperatures', fontsize=20)\n",
    "plt.xlabel('Year', fontsize=18)\n",
    "plt.ylabel('Degrees Celcius', fontsize=16)\n",
    "plt.show()"
   ]
  }
 ],
 "metadata": {
  "kernelspec": {
   "display_name": "Python 2",
   "language": "python",
   "name": "python2"
  },
  "language_info": {
   "codemirror_mode": {
    "name": "ipython",
    "version": 2
   },
   "file_extension": ".py",
   "mimetype": "text/x-python",
   "name": "python",
   "nbconvert_exporter": "python",
   "pygments_lexer": "ipython2",
   "version": "2.7.10"
  }
 },
 "nbformat": 4,
 "nbformat_minor": 2
}
